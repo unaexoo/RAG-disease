{
 "cells": [
  {
   "cell_type": "code",
   "execution_count": 1,
   "metadata": {},
   "outputs": [],
   "source": [
    "from langchain_text_splitters import RecursiveCharacterTextSplitter\n",
    "from langchain_community.document_loaders import PyMuPDFLoader\n",
    "from langchain_community.vectorstores import Chroma\n",
    "from langchain_core.output_parsers import StrOutputParser\n",
    "from langchain_core.runnables import RunnablePassthrough\n",
    "from langchain_core.prompts import PromptTemplate\n",
    "from langchain_huggingface import HuggingFaceEmbeddings\n",
    "from langchain_groq import ChatGroq"
   ]
  },
  {
   "cell_type": "code",
   "execution_count": 2,
   "metadata": {},
   "outputs": [
    {
     "name": "stdout",
     "output_type": "stream",
     "text": [
      "문서의 페이지수: 11\n"
     ]
    }
   ],
   "source": [
    "# 단계 1 : 문서 로드\n",
    "loader = PyMuPDFLoader(r\"C:\\LangGraph\\정보처리기사.pdf\")\n",
    "docs = loader.load()\n",
    "print(f\"문서의 페이지수: {len(docs)}\")"
   ]
  },
  {
   "cell_type": "code",
   "execution_count": 3,
   "metadata": {},
   "outputs": [
    {
     "name": "stdout",
     "output_type": "stream",
     "text": [
      "분할된 청크의 수 : 22\n"
     ]
    }
   ],
   "source": [
    "# 단계 2 : 문서 분할\n",
    "text_splitter = RecursiveCharacterTextSplitter(chunk_size=1000, chunk_overlap=50)\n",
    "split_documents = text_splitter.split_documents(docs)\n",
    "print(f\"분할된 청크의 수 : {len(split_documents)}\")"
   ]
  },
  {
   "cell_type": "code",
   "execution_count": 4,
   "metadata": {},
   "outputs": [
    {
     "name": "stderr",
     "output_type": "stream",
     "text": [
      "c:\\LangGraph\\venv\\lib\\site-packages\\tqdm\\auto.py:21: TqdmWarning: IProgress not found. Please update jupyter and ipywidgets. See https://ipywidgets.readthedocs.io/en/stable/user_install.html\n",
      "  from .autonotebook import tqdm as notebook_tqdm\n"
     ]
    }
   ],
   "source": [
    "# 단계 3 : 임베딩 생성\n",
    "embeddings = HuggingFaceEmbeddings(model_name=\"BAAI/bge-m3\", model_kwargs={\"device\": \"cuda\"}, encode_kwargs={\"normalize_embeddings\": True})"
   ]
  },
  {
   "cell_type": "code",
   "execution_count": 7,
   "metadata": {},
   "outputs": [],
   "source": [
    "# 단계 4 : DB 생성 및 저장\n",
    "vectorstore = Chroma.from_documents(documents=split_documents, embedding=embeddings)"
   ]
  },
  {
   "cell_type": "code",
   "execution_count": 8,
   "metadata": {},
   "outputs": [],
   "source": [
    "# 단계 5: 검색기(Retriever) 생성\n",
    "retriever = vectorstore.as_retriever()"
   ]
  },
  {
   "cell_type": "code",
   "execution_count": 9,
   "metadata": {},
   "outputs": [
    {
     "data": {
      "text/plain": [
       "[Document(metadata={'author': 'Jaehun Jo', 'creationdate': '2021-07-09T16:11:41+09:00', 'creator': 'Microsoft® Word 2016', 'file_path': 'C:\\\\LangGraph\\\\정보처리기사.pdf', 'format': 'PDF 1.7', 'keywords': '', 'moddate': '2021-07-09T16:11:41+09:00', 'page': 7, 'producer': 'Microsoft® Word 2016', 'source': 'C:\\\\LangGraph\\\\정보처리기사.pdf', 'subject': '', 'title': '', 'total_pages': 11, 'trapped': ''}, page_content='⚫ WAN: 전송 거리가 넓고 라우팅 알고리즘이 필요한 광대역 네트워크(vs LAN) \\n⚫ 백본망(Backbone Network): 각기 다른 LAN이나 부분망 간에 정보를 교환하기 위한 경로를 제공하는 망 \\n⚫ OSI 7계층: 국제표준화기구(ISO)에서 개발, 네트워크 프로토콜 디자인과 통신을 계층으로 나눠 설명한 것 \\n⚫ 1. 물리: 실제 장치들 연결 – 비트 - 리피터(입력 신호 증폭), 허브(가까운 컴퓨터들을 연결) \\n⚫ 2. 데이터링크: 각종 흐름, 순서 제어 – 프레임 - 브리지(LAN 연결), 스위치(큰 LAN 생성) – PPP, Ethernet \\n⚫ 3. 네트워크: 라우팅, 혼잡 제어 – 패킷 – 라우터(경로 설정) – IP, IGMP, BGP, ARP, RARP \\n⚫ 4. 전송: 종단 시스템 간 투명한 데이터 전송 – 세그먼트 – 게이트웨이(서로 다른 프로토콜) - TCP, UDP \\n⚫ 5. 세션: 동기점(오류가 있는 데이터의 회복), 대화 제어자 – RPC, SSL/TLS(인증/암호화/무결성) \\n⚫ 6. 표현: 통신에 적당한 형태로 변환, 데이터의 암호화/복호화 – SSL/TLS, JPEG \\n⚫ 7. 응용: 사용자에게 편리한 환경 제공 – HTTP, HTTPS, SMTP(이메일), POP3, DNS, FTP(파일 전송), SSH \\n⚫ 프로토콜: 이기종 시스템 간 데이터 교환을 할 수 있도록 하는 표준화 통신 규약 (구문, 의미, 타이밍) \\n⚫ TCP: 근거리 통신망이나 인터넷에서 신뢰성있는 전송을 수행하는 프로토콜 \\n⚫ UDP: 비연결성이고 신뢰성이 없으며 순서화되지 않은 데이터그램 서비스를 제공하는 통신 프로토콜'),\n",
       " Document(metadata={'author': 'Jaehun Jo', 'creationdate': '2021-07-09T16:11:41+09:00', 'creator': 'Microsoft® Word 2016', 'file_path': 'C:\\\\LangGraph\\\\정보처리기사.pdf', 'format': 'PDF 1.7', 'keywords': '', 'moddate': '2021-07-09T16:11:41+09:00', 'page': 0, 'producer': 'Microsoft® Word 2016', 'source': 'C:\\\\LangGraph\\\\정보처리기사.pdf', 'subject': '', 'title': '', 'total_pages': 11, 'trapped': ''}, page_content='⚫ tpmC: 특정 서버 1분당 최대 처리 건수, 객관적인 하드웨어 성능 지표로 사용 \\n⚫ 요구사항 개발 프로세스: 도출->분석->명세->확인 \\n⚫ Prototyping: 새로운 요구사항 도출 수단/요구사항에 대해 개발자가 해석한 것을 확인하기 위한 수단 \\n⚫ 하향식 선정방법: 전문가 판단, 델파이 기법(전문가들의 경험적 지식을 통해 미래 예측) \\n⚫ 상향식 선정방법: LOC, Man/Month, Putnam(개발 주기 단계별 요구+인원 분포, COCOMO(프로그램 규모) \\n⚫ UML: 개발자들의 의사소통을 원활히 해주는 객체지향 모델링 언어 - 다이어그램, 사물, 관계 \\n⚫ UML 관계: 연관 ―, 집합 ◇, 포함(영향을 끼침) ◆, 일반화 ―|>, 의존(일시적) --\\uf0e0, 실체화(행위) ---|> \\n⚫ 구조적 다이어그램: 클래스, 객체, 컴포넌트, 배치, 복합체 구조, 패키지 \\n⚫ 행위 다이어그램: 유스케이스, 시퀀스(메시지 흐름), 커뮤니케이션, 상태, 활동, 상호작용 개요, 타이밍 \\n<2. 데이터 입출력 구현> \\n⚫ 데이터 모델링: 개념적->논리적->물리적 \\n⚫ 이상 현상: 데이터의 중복성으로 인해 테이블을 조작할 때 발생하는 비합리적인 현상(삽입, 삭제, 갱신)'),\n",
       " Document(metadata={'author': 'Jaehun Jo', 'creationdate': '2021-07-09T16:11:41+09:00', 'creator': 'Microsoft® Word 2016', 'file_path': 'C:\\\\LangGraph\\\\정보처리기사.pdf', 'format': 'PDF 1.7', 'keywords': '', 'moddate': '2021-07-09T16:11:41+09:00', 'page': 8, 'producer': 'Microsoft® Word 2016', 'source': 'C:\\\\LangGraph\\\\정보처리기사.pdf', 'subject': '', 'title': '', 'total_pages': 11, 'trapped': ''}, page_content='⚫ 프레임 릴레이: 프로토콜 처리 간략화, 데이터프레임들의 중계/다중화 기능만 수행->처리 속도 향상  \\n⚫ ATM: 53바이트 셀 단위로 전달하는 비동기식 시분할 다중화 방식의 패킷형 전송 기술 \\n⚫ 서킷 스위칭: 네트워크 리소스를 특정 사용 계층이 독점하여 통신하는 방식 \\n⚫ SAN(Storage Area Network): 여러 OS의 기종들이 동일 저장장치의 데이터 공유->백업 장비 단일화 \\n⚫ NAT(Network Address Translation): 사설 IP 주소를 공인 IP주소로 바꿔주는 네트워크 주소 변환 기술 \\n⚫ MQTT(Message Queuing Telemetry Transport): 제한된 대역폭의 푸시기술 기반 경랑 메시지 전송 규약 \\n⚫ 라우팅 프로토콜: 최종 목적지까지 패킷을 최소 비용/홉수로 적절한 경로를 설정해주는 프로토콜 \\n⚫ 거리 벡터 알고리즘: 인접 라우터와 정보를 공유하여 목적지까지의 방향과 거리를 결정(RIP, IGRP) \\n⚫ RIP: 거리 벡터 알고리즘(벨만 포드), 최대 홉수를 15개로 제한, 자율시스템(Auto System) 내부 \\n⚫ IGRP: 거리 벡터 알고리즘, RIP의 문제점 개선, 대규모 통신망 \\n⚫ OSPF: 링크 상태 알고리즘, 모든 라우터에 정보 전달, 다익스트라, 대규모 네트워크, 홉수 제한X \\n⚫ BGP: 경로 벡터 알고리즘, 대규모 네트워크, 도달 가능성 및 라우팅 정보 교환 \\n⚫ VPN(Virtual Private Network): 인터넷과 같은 공중망을 마치 전용선으로 사설망을 구축한 것처럼 사용'),\n",
       " Document(metadata={'author': 'Jaehun Jo', 'creationdate': '2021-07-09T16:11:41+09:00', 'creator': 'Microsoft® Word 2016', 'file_path': 'C:\\\\LangGraph\\\\정보처리기사.pdf', 'format': 'PDF 1.7', 'keywords': '', 'moddate': '2021-07-09T16:11:41+09:00', 'page': 8, 'producer': 'Microsoft® Word 2016', 'source': 'C:\\\\LangGraph\\\\정보처리기사.pdf', 'subject': '', 'title': '', 'total_pages': 11, 'trapped': ''}, page_content='⚫ ARP: IP 주소를 물리적 주소(=MAC 주소)로 변경  vs  RARP: 물리적 주소(=MAC 주소)를 IP 주소로 변경 \\n⚫ IGMP(Internet Group Management Protocol): 멀티캐스트 그룹 유지를 위해 사용되는 프로토콜 \\n⚫ ICMP(Internet Control Message Protocol): 오류 메시지 등 여러 정보를 전달/컨트롤하는 프로토콜 \\n⚫ LDAP(Lightweight Directory Access Protocol): 디렉터리 서비스의 등록/수정/삭제 및 검색 프로토콜 \\n⚫ DHCP: Dynamic Host Configuration Protocol): IP 주소 및 설정 정보를 클라이언트에게 동적으로 할당 \\n⚫ SSH(Secure SHell): 포트번호 22번, 높은 안정성을 보장하는 원격 접속 프로토콜 \\n⚫ IPv4: 데이터 교환을 위해 32bit 주소 체계를 갖는 네트워크 계층의 프로토콜(유니/멀티/브로드캐스트) \\n⚫ IPv6: 차세대 인터넷 프로토콜, IPv4 문제점 해결, 128bit 주소체계(유니/멀티/애니캐스트) \\n⚫ 유니캐스트: 단 하나의 수신자에게 1대1로 정보를 전송 \\n⚫ 멀티캐스트: 같은 내용의 데이터를 여러 명의 특정한 일부 그룹의 수신자들에게 동시에 전송하는 기술 \\n⚫ 브로드캐스트: 하나의 송신자가 같은 서브네트워크 상의 모든 수신자에게 데이터를 전송하는 기술 \\n⚫ 애니캐스트: Topology상의 수신자 그룹 안에서 가장 가까운 노드로 데이터그램을 연결시키는 프로토콜 \\n⚫ DNS(Domain Name System): 도메인 네임을 IP 주소로 매핑하는 시스템 \\n⚫ 네트워크 슬라이싱: 하나의 네트워크를 다수의 독립적 가상 네트워크로 분리, 전용 네트워크 제공 \\n⚫ 패킷 스위칭: 작은 블록의 패킷으로 데이터 전송, 전송 동안만 네트워크 자원 사용(X.25, ATM, 프-릴) \\n⚫ X.25: 두 단말 장치가 패킷 통신망을 통해 원활한 패킷 전송을 하기 위한 프로토콜')]"
      ]
     },
     "execution_count": 9,
     "metadata": {},
     "output_type": "execute_result"
    }
   ],
   "source": [
    "# 검색기에 쿼리를 날려 검색된 chunk 결과를 확인\n",
    "retriever.invoke(\"OLTP란?\")"
   ]
  },
  {
   "cell_type": "code",
   "execution_count": 10,
   "metadata": {},
   "outputs": [],
   "source": [
    "# 단계 6: 프로프트 생성\n",
    "prompt = PromptTemplate.from_template(\n",
    "    \"\"\"You are an assistant for question-answering tasks. \n",
    "Use the following pieces of retrieved context to answer the question. \n",
    "If you don't know the answer, just say that you don't know. \n",
    "Answer in Korean.\n",
    "\n",
    "#Question: \n",
    "{question} \n",
    "#Context: \n",
    "{context} \n",
    "\n",
    "#Answer:\"\"\"\n",
    ")"
   ]
  },
  {
   "cell_type": "code",
   "execution_count": 11,
   "metadata": {},
   "outputs": [],
   "source": [
    "# 단계 7: 언어 모델 생성\n",
    "llm=ChatGroq(temperature=0, model=\"gemma2-9b-it\", api_key=\"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\")"
   ]
  },
  {
   "cell_type": "code",
   "execution_count": 22,
   "metadata": {},
   "outputs": [
    {
     "data": {
      "text/plain": [
       "AIMessage(content='## 트랜잭션 (Transaction) 에 대해 알려드릴게요!\\n\\n트랜잭션은 **데이터베이스에서 여러 개의 작업을 하나의 단위로 처리하는 것**을 의미합니다. \\n\\n마치 은행에서 여러 개의 계좌 이체를 한 번에 처리하는 것처럼, 트랜잭션은 여러 작업을 하나의 단위로 처리하여 **데이터의 일관성과 정확성을 보장**합니다.\\n\\n**트랜잭션의 핵심은 ACID 특성**입니다.\\n\\n* **Atomicity (원자성):** 트랜잭션 내 모든 작업이 성공적으로 완료되면 전체 트랜잭션이 성공으로 처리되고, 어떤 작업이라도 실패하면 전체 트랜잭션이 실패로 처리됩니다. 즉, 완전히 성공하거나 완전히 실패하는 것입니다.\\n* **Consistency (일관성):** 트랜잭션이 실행되기 전과 후에 데이터베이스의 일관성이 유지됩니다. 즉, 트랜잭션이 실행된 후 데이터베이스는 일관된 상태를 유지합니다.\\n* **Isolation (격리성):** 동시에 실행되는 여러 트랜잭션이 서로 영향을 주지 않습니다. 각 트랜잭션은 독립적으로 실행되며, 다른 트랜잭션의 변경 사항을 보지 못합니다.\\n* **Durability (지속성):** 트랜잭션이 성공적으로 완료되면 변경 사항은 영구적으로 데이터베이스에 저장됩니다. 시스템이 오류나 재부팅을 겪더라도 변경 사항은 유지됩니다.\\n\\n**트랜잭션의 예시:**\\n\\n* **온라인 쇼핑몰에서 상품 구매:** 상품 주문, 결제, 재고 업데이트 등 여러 작업이 하나의 트랜잭션으로 처리되어, 모든 작업이 성공적으로 완료되거나 실패하면 전체 트랜잭션이 취소됩니다.\\n* **은행 계좌 이체:** 출금 계좌에서 금액을 차감하고, 입금 계좌에 금액을 추가하는 작업이 하나의 트랜잭션으로 처리되어, 두 계좌의 잔액이 일관성을 유지합니다.\\n\\n**트랜잭션은 데이터베이스 시스템에서 매우 중요한 개념**이며, 데이터의 정확성, 일관성, 안정성을 보장하는 데 필수적인 요소입니다.\\n\\n\\n', additional_kwargs={}, response_metadata={'token_usage': {'completion_tokens': 544, 'prompt_tokens': 19, 'total_tokens': 563, 'completion_time': 0.989090909, 'prompt_time': 8.734e-05, 'queue_time': 0.019845219999999997, 'total_time': 0.989178249}, 'model_name': 'gemma2-9b-it', 'system_fingerprint': 'fp_10c08bf97d', 'finish_reason': 'stop', 'logprobs': None}, id='run-95aa00e4-6acb-4d1d-b6be-49a66abe2abe-0', usage_metadata={'input_tokens': 19, 'output_tokens': 544, 'total_tokens': 563})"
      ]
     },
     "execution_count": 22,
     "metadata": {},
     "output_type": "execute_result"
    }
   ],
   "source": [
    "llm.invoke(\"트랜잭션에 대해 설명해줘?\")"
   ]
  },
  {
   "cell_type": "code",
   "execution_count": 12,
   "metadata": {},
   "outputs": [],
   "source": [
    "# 단계 8: 체인(chain) 생성\n",
    "chain = (\n",
    "    {\"context\": retriever, \"question\": RunnablePassthrough()}\n",
    "    | prompt\n",
    "    | llm\n",
    "    | StrOutputParser()\n",
    ")"
   ]
  },
  {
   "cell_type": "code",
   "execution_count": 21,
   "metadata": {},
   "outputs": [
    {
     "name": "stdout",
     "output_type": "stream",
     "text": [
      "DB시스템에서 하나의 논리적인 기능을 수행하기 위한 작업의 기본 단위입니다. \n",
      "\n",
      "\n",
      "\n"
     ]
    }
   ],
   "source": [
    "question = \"트랜잭션에 대해 설명해줘?\"\n",
    "response = chain.invoke(question)\n",
    "print(response)"
   ]
  },
  {
   "cell_type": "code",
   "execution_count": null,
   "metadata": {},
   "outputs": [],
   "source": []
  }
 ],
 "metadata": {
  "kernelspec": {
   "display_name": "venv",
   "language": "python",
   "name": "python3"
  },
  "language_info": {
   "codemirror_mode": {
    "name": "ipython",
    "version": 3
   },
   "file_extension": ".py",
   "mimetype": "text/x-python",
   "name": "python",
   "nbconvert_exporter": "python",
   "pygments_lexer": "ipython3",
   "version": "3.10.4"
  }
 },
 "nbformat": 4,
 "nbformat_minor": 2
}
